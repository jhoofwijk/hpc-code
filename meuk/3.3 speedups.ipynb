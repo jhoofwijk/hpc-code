{
 "cells": [
  {
   "cell_type": "code",
   "execution_count": 16,
   "metadata": {},
   "outputs": [
    {
     "name": "stdout",
     "output_type": "stream",
     "text": [
      "[]\n",
      "[0.004107424960505529, 0.0039573820395738205, 0.003999999999999999]\n",
      "[0.4172185430463576, 0.4104234527687296, 0.40909090909090906]\n",
      "[4.857954545454546, 4.844192634560907, 4.723756906077348]\n",
      "[18.91891891891892, 17.796610169491526, 14.383561643835618]\n",
      "[]\n"
     ]
    }
   ],
   "source": [
    "times = \"\"\"\n",
    "0.00026\t0.0633\t0.0657\t0.0650\n",
    "0.0252\t0.0604\t0.0614\t0.0616\n",
    "0.342\t0.0704\t0.0706\t0.0724\n",
    "2.10\t0.111\t0.118\t0.146\n",
    "\"\"\"\n",
    "\n",
    "for l in times.split('\\n'):\n",
    "    cpu, *gpu = l.split('\\t')\n",
    "    print([float(cpu) / float(g) for g in gpu])"
   ]
  },
  {
   "cell_type": "code",
   "execution_count": 17,
   "metadata": {},
   "outputs": [
    {
     "name": "stdout",
     "output_type": "stream",
     "text": [
      "[]\n",
      "[1.0, 1.0, 0.9285714285714286]\n",
      "[78.75, 70.0, 72.0]\n",
      "[367.741935483871, 456.0, 244.2857142857143]\n",
      "[700.0, 617.6470588235295, 355.93220338983053]\n",
      "[]\n"
     ]
    }
   ],
   "source": [
    "times = \"\"\"\n",
    "0.00026\t0.0633\t0.0657\t0.0650\t0.00026\t0.00026\t0.00028\n",
    "0.0252\t0.0604\t0.0614\t0.0616\t0.00032\t0.00036\t0.00035\n",
    "0.342\t0.0704\t0.0706\t0.0724\t0.00093\t0.00075\t0.0014\n",
    "2.10\t0.111\t0.118\t0.146\t0.0030\t0.0034\t0.0059\n",
    "\"\"\"\n",
    "\n",
    "for l in times.split('\\n'):\n",
    "    cpu, *gpu = l.split('\\t')\n",
    "    print([float(cpu) / float(g) for g in gpu[3:]])"
   ]
  },
  {
   "cell_type": "code",
   "execution_count": null,
   "metadata": {},
   "outputs": [],
   "source": []
  }
 ],
 "metadata": {
  "kernelspec": {
   "display_name": "Python 3",
   "language": "python",
   "name": "python3"
  },
  "language_info": {
   "codemirror_mode": {
    "name": "ipython",
    "version": 3
   },
   "file_extension": ".py",
   "mimetype": "text/x-python",
   "name": "python",
   "nbconvert_exporter": "python",
   "pygments_lexer": "ipython3",
   "version": "3.7.3"
  }
 },
 "nbformat": 4,
 "nbformat_minor": 2
}
