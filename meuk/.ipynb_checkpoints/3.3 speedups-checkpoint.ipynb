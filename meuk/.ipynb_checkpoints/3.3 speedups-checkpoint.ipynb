{
 "cells": [
  {
   "cell_type": "code",
   "execution_count": 9,
   "metadata": {},
   "outputs": [],
   "source": [
    "times = \"\"\"\n",
    "0.00026\t0.0633\t0.0657\t0.0650\n",
    "0.0252\t0.0604\t0.0614\t0.0616\n",
    "0.342\t0.0704\t0.0706\t0.0724\n",
    "2.10\t0.111\t0.118\t0.146\n",
    "\"\"\"\n"
   ]
  },
  {
   "cell_type": "code",
   "execution_count": 10,
   "metadata": {},
   "outputs": [
    {
     "name": "stdout",
     "output_type": "stream",
     "text": [
      "[]\n",
      "[243.46153846153845, 252.69230769230768, 250.00000000000003]\n",
      "[2.3968253968253967, 2.4365079365079367, 2.4444444444444446]\n",
      "[0.20584795321637425, 0.20643274853801166, 0.21169590643274855]\n",
      "[0.05285714285714285, 0.056190476190476187, 0.06952380952380952]\n",
      "[]\n"
     ]
    }
   ],
   "source": [
    "for l in times.split('\\n'):\n",
    "    cpu, *gpu = l.split('\\t')\n",
    "    print([float(cpu) / float(g) for g in gpu])"
   ]
  },
  {
   "cell_type": "code",
   "execution_count": 11,
   "metadata": {},
   "outputs": [
    {
     "name": "stdout",
     "output_type": "stream",
     "text": [
      "[]\n",
      "[1.0, 1.0, 1.0769230769230769]\n",
      "[0.0126984126984127, 0.014285714285714287, 0.013888888888888888]\n",
      "[0.002719298245614035, 0.0021929824561403508, 0.004093567251461988]\n",
      "[0.0014285714285714286, 0.001619047619047619, 0.0028095238095238095]\n",
      "[]\n"
     ]
    }
   ],
   "source": [
    "times = \"\"\"\n",
    "0.00026\t0.0633\t0.0657\t0.0650\t0.00026\t0.00026\t0.00028\n",
    "0.0252\t0.0604\t0.0614\t0.0616\t0.00032\t0.00036\t0.00035\n",
    "0.342\t0.0704\t0.0706\t0.0724\t0.00093\t0.00075\t0.0014\n",
    "2.10\t0.111\t0.118\t0.146\t0.0030\t0.0034\t0.0059\n",
    "\"\"\"\n",
    "\n",
    "for l in times.split('\\n'):\n",
    "    cpu, *gpu = l.split('\\t')\n",
    "    print([float(cpu) / float(g) for g in gpu[3:]])"
   ]
  },
  {
   "cell_type": "code",
   "execution_count": null,
   "metadata": {},
   "outputs": [],
   "source": []
  }
 ],
 "metadata": {
  "kernelspec": {
   "display_name": "Python 3",
   "language": "python",
   "name": "python3"
  },
  "language_info": {
   "codemirror_mode": {
    "name": "ipython",
    "version": 3
   },
   "file_extension": ".py",
   "mimetype": "text/x-python",
   "name": "python",
   "nbconvert_exporter": "python",
   "pygments_lexer": "ipython3",
   "version": "3.7.3"
  }
 },
 "nbformat": 4,
 "nbformat_minor": 2
}
